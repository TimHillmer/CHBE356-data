{
  "nbformat": 4,
  "nbformat_minor": 0,
  "metadata": {
    "colab": {
      "name": "random search.ipynb",
      "version": "0.3.2",
      "provenance": [],
      "collapsed_sections": []
    },
    "kernelspec": {
      "name": "python3",
      "display_name": "Python 3"
    }
  },
  "cells": [
    {
      "metadata": {
        "id": "-k_zByXEZ-EH",
        "colab_type": "code",
        "colab": {}
      },
      "cell_type": "code",
      "source": [
        "'''\n",
        "  _____  _    _ _   _   _______ _    _ _____  _____    _____ ______ _      _        ______ _____ _____   _____ _______ \n",
        " |  __ \\| |  | | \\ | | |__   __| |  | |_   _|/ ____|  / ____|  ____| |    | |      |  ____|_   _|  __ \\ / ____|__   __|\n",
        " | |__) | |  | |  \\| |    | |  | |__| | | | | (___   | |    | |__  | |    | |      | |__    | | | |__) | (___    | |   \n",
        " |  _  /| |  | | . ` |    | |  |  __  | | |  \\___ \\  | |    |  __| | |    | |      |  __|   | | |  _  / \\___ \\   | |   \n",
        " | | \\ \\| |__| | |\\  |    | |  | |  | |_| |_ ____) | | |____| |____| |____| |____  | |     _| |_| | \\ \\ ____) |  | |   \n",
        " |_|  \\_\\\\____/|_| \\_|    |_|  |_|  |_|_____|_____/   \\_____|______|______|______| |_|    |_____|_|  \\_\\_____/   |_|  \n",
        "'''\n",
        "# Disturbance profiles were uploaded to Github so markers can access them through this notebook. Let's get them.\n",
        "!rm -rf CHBE356-data\n",
        "!git clone https://github.com/TimHillmer/CHBE356-data/\n",
        "\n",
        "\n",
        "# obtain a numerically ordered list of the paths to the disturbance profiles\n",
        "import glob\n",
        "filenames = glob.glob('CHBE356-data/Disturbance_profiles/*.csv')\n",
        "filenames.sort()\n",
        "\n",
        "# obtain an array containing all disturbance profiles (data in [profile#, timevalue] format)\n",
        "import numpy as np\n",
        "import pandas as pd\n",
        "df = pd.concat([pd.read_csv(files).transpose() for files in filenames], ignore_index = True)\n",
        "# each disturbance profile is a *row*\n",
        "\n",
        "# define Yankai's 100 point interpolation\n",
        "from scipy.interpolate import interp1d\n",
        "Ti_data = df.values\n",
        "time_data = np.arange(len(Ti_data[0]))  # assume Ti' data is given at each second\n",
        "f = interp1d(time_data, Ti_data)\n",
        "points_per_second = 100\n",
        "times = np.linspace(time_data[0], time_data[-1], len(time_data)*points_per_second)\n",
        "TiPrimes = f(times)\n",
        "\n",
        "# Any remaining install/imports here\n",
        "! pip install git+https://github.com/python-control/python-control@601b58152080d89575cc677474ec7714e1a34ee2\n",
        "import control\n",
        "import matplotlib.pyplot as plt\n",
        "import random\n",
        "\n",
        "\n",
        "def fasterplan(KC, TauI, TauD, TauC, s, times, Gd, Gp):  # streamlined version to save precious milliseconds each run\n",
        "    Gc = KC*(1 + 1/(TauI*s) + TauD*s/(TauC*s+1))  # Controller transfer function\n",
        "    Gtotal = Gd / (1 + Gp*Gc)  # no term for (temperature deviation) setpoint because it is always zero\n",
        "    Perf = np.zeros(len(TiPrimes))  # array to store Perf for each disturbance profile\n",
        "    for i in range(len(TiPrimes)):  # main loop for calculation and plotting\n",
        "        # T' response including controller\n",
        "        t, Tprime, x = control.forced_response(Gtotal, times, TiPrimes[i])\n",
        "\n",
        "        # controller response to error (=input)\n",
        "        t, Qprime, x = control.forced_response(Gc, times, -Tprime)\n",
        "\n",
        "        Perf[i] = (sum(np.absolute(Tprime)) + 0.2*sum(np.absolute(Qprime)))/points_per_second  \n",
        "        # performance metric for each profile\n",
        "    return np.average(Perf)\n",
        "\n",
        "  \n",
        "def lograndom(lo, hi):  # samples from log(X), where X in uniformly distributed within the provided bounds\n",
        "    return(lo*10**(random.uniform(0, np.log10(hi/lo))))\n",
        "         \n",
        "         \n",
        "# initial information for use in \"fasterplan\"\n",
        "s = control.tf([1,0],[0,1])  # Define the s variable\n",
        "Gd = (s+1) / (s**2+s+1)  # T' / Ti' (disturbance) transfer function\n",
        "Gp = 1 / (s**2+s+1)  # T' / Q' (process) transfer function"
      ],
      "execution_count": 0,
      "outputs": []
    },
    {
      "metadata": {
        "id": "uqYQJY3JmBiR",
        "colab_type": "code",
        "colab": {}
      },
      "cell_type": "code",
      "source": [
        "Ntests = 500\n",
        "Nhappy = int(Ntests/10)\n",
        "\n",
        "counter = 0\n",
        "happycounter = 0\n",
        "\n",
        "data = np.zeros((Ntests, 5))\n",
        "happydata = np.zeros((Nhappy, 5))\n",
        "from google.colab import files\n",
        "\n",
        "for i in range(Ntests):\n",
        "    Kc = lograndom(1e3, 1e4)\n",
        "    Ti = lograndom(1e-4, 1e-3)\n",
        "    Td = lograndom(0.05,1.5)\n",
        "    Tc = lograndom(5e-4, 0.1)\n",
        "\n",
        "    Perf = fasterplan(Kc, Ti, Td, Tc, s, times, Gd, Gp)\n",
        "    if Perf <= 6.95:\n",
        "        happydata[happycounter] = np.array([Perf, Kc, Ti, Td, Tc])\n",
        "        happycounter += 1\n",
        "        print('happy', Perf, Kc, Ti, Td, Tc)\n",
        "\n",
        "    data[counter] = np.array([Perf, Kc, Ti, Td, Tc]) \n",
        "    counter += 1\n",
        "    \n",
        "    if happycounter == Nhappy:\n",
        "        break"
      ],
      "execution_count": 0,
      "outputs": []
    },
    {
      "metadata": {
        "id": "t0r3shI_q34-",
        "colab_type": "code",
        "colab": {}
      },
      "cell_type": "code",
      "source": [
        "from google.colab import files  # this notebook was run with Colaboratory, which downloads files using this library\n",
        "np.savetxt(\"Data.csv\", data, delimiter=\",\")  \n",
        "np.savetxt(\"HappyData.csv\", happydata, delimiter=\",\") \n",
        "files.download('HappyData.csv')"
      ],
      "execution_count": 0,
      "outputs": []
    },
    {
      "metadata": {
        "id": "TMjbMN_GscfY",
        "colab_type": "code",
        "colab": {}
      },
      "cell_type": "code",
      "source": [
        "fasterplan(5688.814947611792, 0.0002280222206125743, 0.4941522520819933, 0.006245557968152839, s, times, Gd, Gp)\n",
        "# happy 6.789263931270320 8157.95407778562 0.00014069840043239406 0.13349633544031736 0.0010902891735579206\n",
        "# happy 6.769239197968654 6780.9431099381745 0.0008394599924216926 0.6232736552360005 0.01064341130569476\n",
        "# happy 6.661657297636582 9535.386683958759 0.00010033885457162226 0.819218758695484 0.004582526747423241\n",
        "# happy 6.604902873671916 8763.00366411034 0.00021935638604842907 0.17331925291467143 0.0034497938673252715\n",
        "# happy 6.603490145150944 5688.814947611792 0.0002280222206125743 0.4941522520819933 0.006245557968152839"
      ],
      "execution_count": 0,
      "outputs": []
    }
  ]
}