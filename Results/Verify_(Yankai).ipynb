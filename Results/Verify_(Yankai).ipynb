{
  "nbformat": 4,
  "nbformat_minor": 0,
  "metadata": {
    "colab": {
      "name": "Verify (Yankai).ipynb",
      "version": "0.3.2",
      "provenance": [],
      "collapsed_sections": []
    },
    "kernelspec": {
      "display_name": "Python 3",
      "language": "python",
      "name": "python3"
    }
  },
  "cells": [
    {
      "metadata": {
        "id": "ymrycU_hqmhi",
        "colab_type": "code",
        "outputId": "ac3d931d-2a67-4ebf-ff07-625d613aa33a",
        "colab": {
          "base_uri": "https://localhost:8080/",
          "height": 309
        }
      },
      "cell_type": "code",
      "source": [
        "! pip install git+https://github.com/python-control/python-control@601b58152080d89575cc677474ec7714e1a34ee2\n",
        "import control\n",
        "import numpy as np\n",
        "from scipy.interpolate import interp1d"
      ],
      "execution_count": 1,
      "outputs": [
        {
          "output_type": "stream",
          "text": [
            "Collecting git+https://github.com/python-control/python-control@601b58152080d89575cc677474ec7714e1a34ee2\n",
            "  Cloning https://github.com/python-control/python-control (to revision 601b58152080d89575cc677474ec7714e1a34ee2) to /tmp/pip-req-build-ja4wxewz\n",
            "Requirement already satisfied (use --upgrade to upgrade): control===dev from git+https://github.com/python-control/python-control@601b58152080d89575cc677474ec7714e1a34ee2 in /usr/local/lib/python3.6/dist-packages\n",
            "Requirement already satisfied: numpy in /usr/local/lib/python3.6/dist-packages (from control===dev) (1.14.6)\n",
            "Requirement already satisfied: scipy in /usr/local/lib/python3.6/dist-packages (from control===dev) (1.1.0)\n",
            "Requirement already satisfied: matplotlib in /usr/local/lib/python3.6/dist-packages (from control===dev) (3.0.3)\n",
            "Requirement already satisfied: python-dateutil>=2.1 in /usr/local/lib/python3.6/dist-packages (from matplotlib->control===dev) (2.5.3)\n",
            "Requirement already satisfied: kiwisolver>=1.0.1 in /usr/local/lib/python3.6/dist-packages (from matplotlib->control===dev) (1.0.1)\n",
            "Requirement already satisfied: cycler>=0.10 in /usr/local/lib/python3.6/dist-packages (from matplotlib->control===dev) (0.10.0)\n",
            "Requirement already satisfied: pyparsing!=2.0.4,!=2.1.2,!=2.1.6,>=2.0.1 in /usr/local/lib/python3.6/dist-packages (from matplotlib->control===dev) (2.3.1)\n",
            "Requirement already satisfied: six>=1.5 in /usr/local/lib/python3.6/dist-packages (from python-dateutil>=2.1->matplotlib->control===dev) (1.11.0)\n",
            "Requirement already satisfied: setuptools in /usr/local/lib/python3.6/dist-packages (from kiwisolver>=1.0.1->matplotlib->control===dev) (40.8.0)\n",
            "Building wheels for collected packages: control\n",
            "  Building wheel for control (setup.py) ... \u001b[?25ldone\n",
            "\u001b[?25h  Stored in directory: /tmp/pip-ephem-wheel-cache-egv8oqx8/wheels/d5/fa/66/d16620c4f2aa2183831970718f2fe9cf08dbca08c714a76668\n",
            "Successfully built control\n"
          ],
          "name": "stdout"
        }
      ]
    },
    {
      "metadata": {
        "id": "fWbOrkb6qmhm",
        "colab_type": "code",
        "outputId": "b297876c-8e5a-48f8-ab8c-be3c7e52383b",
        "colab": {
          "base_uri": "https://localhost:8080/",
          "height": 136
        }
      },
      "cell_type": "code",
      "source": [
        "NUM_PROFILES = 100\n",
        "MAX_TIME = 60\n",
        "T_sp = 0\n",
        "K_c, tau_I, tau_D, tau_c = [5688.814947611792, 0.0002280222206125743, 0.4941522520819933, 0.006245557968152839]\n",
        "\n",
        "\n",
        "# Disturbance profiles were uploaded to Github so markers can access them through this notebook. Let's get them.\n",
        "!rm -rf CHBE356-data\n",
        "!git clone https://github.com/TimHillmer/CHBE356-data/\n",
        "\n",
        "# obtain a numerically ordered list of the paths to the disturbance profiles\n",
        "import glob\n",
        "filenames = glob.glob('CHBE356-data/Disturbance_profiles/*.csv')\n",
        "filenames.sort()\n",
        "\n",
        "# obtain an array containing all disturbance profiles (data in [profile#, timevalue] format)\n",
        "import pandas as pd\n",
        "df = pd.concat([pd.read_csv(files).transpose() for files in filenames], ignore_index = True)\n",
        "# each disturbance profile is a *row*\n",
        "Ti_data = df.values"
      ],
      "execution_count": 2,
      "outputs": [
        {
          "output_type": "stream",
          "text": [
            "Cloning into 'CHBE356-data'...\n",
            "remote: Enumerating objects: 64, done.\u001b[K\n",
            "remote: Counting objects: 100% (64/64), done.\u001b[K\n",
            "remote: Compressing objects: 100% (61/61), done.\u001b[K\n",
            "remote: Total 170 (delta 13), reused 0 (delta 0), pack-reused 106\u001b[K\n",
            "Receiving objects: 100% (170/170), 992.74 KiB | 3.75 MiB/s, done.\n",
            "Resolving deltas: 100% (13/13), done.\n"
          ],
          "name": "stdout"
        }
      ]
    },
    {
      "metadata": {
        "id": "HBKnJtocqmhp",
        "colab_type": "code",
        "colab": {}
      },
      "cell_type": "code",
      "source": [
        "def simulate(i, K_c, tau_I, tau_D, tau_c):\n",
        "    time_data = np.linspace(0, MAX_TIME-1, MAX_TIME)                                                                                                                                                                                                           \n",
        "    T_i_data = Ti_data[i]\n",
        "    f = interp1d(time_data, T_i_data)\n",
        "    points_per_seond = 100\n",
        "    time = np.linspace(0, MAX_TIME-1, MAX_TIME*points_per_seond)\n",
        "    T_i = f(time)\n",
        "\n",
        "    s = control.tf([1,0],[0,1])\n",
        "    G_p = 1/(s**2 + s + 1)\n",
        "    G_d = (s+1)/(s**2 + s + 1)\n",
        "    G_c = K_c * (1+ 1/(tau_I*s) + (tau_D*s)/(tau_c*s + 1))\n",
        "    sys_D = G_d / (1 + G_p * G_c)\n",
        "\n",
        "    Tsp = 0\n",
        "    _, T, _ = control.forced_response(sys_D, time, T_i)\n",
        "    _, Q, _ = control.forced_response(G_c, time, Tsp - T)\n",
        "    error = (sum(abs(T)) + 0.2*sum(abs(Q)))/points_per_seond\n",
        "    if sum(abs(T)>= 5) or sum(abs(Q)>= 5):\n",
        "        error = 1e6\n",
        "    return error"
      ],
      "execution_count": 0,
      "outputs": []
    },
    {
      "metadata": {
        "id": "Sr4V7NMFqmhs",
        "colab_type": "code",
        "colab": {
          "base_uri": "https://localhost:8080/",
          "height": 34
        },
        "outputId": "375cfe77-6b33-4ce7-94c8-a82bbbbfc51f"
      },
      "cell_type": "code",
      "source": [
        "total_error = 0\n",
        "for i in range(NUM_PROFILES):\n",
        "    error = simulate(i, K_c, tau_I, tau_D, tau_c)\n",
        "    total_error += error\n",
        "print(f'Average error: {total_error / NUM_PROFILES}')"
      ],
      "execution_count": 4,
      "outputs": [
        {
          "output_type": "stream",
          "text": [
            "Average error: 6.603490145150943\n"
          ],
          "name": "stdout"
        }
      ]
    }
  ]
}